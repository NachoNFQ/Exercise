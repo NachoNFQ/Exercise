{
 "cells": [
  {
   "cell_type": "markdown",
   "id": "9ca9bfb1",
   "metadata": {},
   "source": [
    "# Cuaderno de Ciencia de Datos - Semana 1"
   ]
  },
  {
   "cell_type": "markdown",
   "id": "a0bc6e7a",
   "metadata": {},
   "source": [
    "## Introducción\n",
    "\n",
    "Este cuaderno contiene ejercicios básicos para familiarizarse con el entorno de Jupyter Notebook y conceptos fundamentales de la ciencia de datos."
   ]
  },
  {
   "cell_type": "markdown",
   "id": "91d5f8c9",
   "metadata": {},
   "source": [
    "## Lenguajes de Programación en Ciencia de Datos\n",
    "\n",
    "1. Python\n",
    "2. R\n",
    "3. SQL\n",
    "4. Julia\n",
    "5. Scala\n",
    "6. Java\n",
    "7. MATLAB"
   ]
  },
  {
   "cell_type": "markdown",
   "id": "405d8701",
   "metadata": {},
   "source": [
    "## Bibliotecas Populares en Ciencia de Datos\n",
    "\n",
    "- Pandas\n",
    "- NumPy\n",
    "- Matplotlib\n",
    "- Seaborn\n",
    "- Scikit-learn\n",
    "- TensorFlow\n",
    "- PyTorch"
   ]
  },
  {
   "cell_type": "markdown",
   "id": "f2239fcf",
   "metadata": {},
   "source": [
    "## Herramientas de Ciencia de Datos\n",
    "\n",
    "| Herramienta       | Descripción                          |\n",
    "|-------------------|--------------------------------------|\n",
    "| Jupyter Notebook  | Entorno interactivo para código      |\n",
    "| RStudio           | IDE para R                           |\n",
    "| Apache Spark      | Procesamiento de datos a gran escala |\n",
    "| Tableau           | Visualización de datos               |\n",
    "| VS Code           | Editor de código                     |"
   ]
  },
  {
   "cell_type": "markdown",
   "id": "145d8054",
   "metadata": {},
   "source": [
    "## Ejemplos de Expresiones Aritméticas\n",
    "\n",
    "- Suma: `3 + 5 = 8`\n",
    "- Resta: `10 - 4 = 6`\n",
    "- Multiplicación: `6 * 7 = 42`\n",
    "- División: `20 / 4 = 5.0`\n",
    "- Potencia: `2 ** 3 = 8`"
   ]
  },
  {
   "cell_type": "code",
   "execution_count": null,
   "id": "b6bd925f",
   "metadata": {},
   "outputs": [],
   "source": [
    "# Multiplicación y suma\n",
    "a = 6\n",
    "b = 4\n",
    "producto = a * b\n",
    "suma = a + b\n",
    "\n",
    "print('Producto:', producto)\n",
    "print('Suma:', suma)"
   ]
  },
  {
   "cell_type": "code",
   "execution_count": null,
   "id": "3b743762",
   "metadata": {},
   "outputs": [],
   "source": [
    "# Conversión de minutos a horas\n",
    "minutos = 150\n",
    "horas = minutos / 60\n",
    "\n",
    "print(minutos, 'minutos equivalen a', horas, 'horas')"
   ]
  },
  {
   "cell_type": "code",
   "execution_count": null,
   "id": "6380c5d7",
   "metadata": {},
   "outputs": [],
   "source": [
    "# Lista de objetivos\n",
    "objetivos = [\n",
    "    'Aprender los fundamentos de la ciencia de datos',\n",
    "    'Familiarizarse con Jupyter Notebook',\n",
    "    'Practicar operaciones básicas en Python'\n",
    "]\n",
    "\n",
    "for objetivo in objetivos:\n",
    "    print('-', objetivo)"
   ]
  },
  {
   "cell_type": "markdown",
   "id": "0cb5e9bc",
   "metadata": {},
   "source": [
    "## Autor\n",
    "\n",
    "**Nombre:** [Tu Nombre Aquí]"
   ]
  }
 ],
 "metadata": {},
 "nbformat": 4,
 "nbformat_minor": 5
}
